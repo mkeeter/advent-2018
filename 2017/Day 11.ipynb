{
 "cells": [
  {
   "cell_type": "code",
   "execution_count": 10,
   "metadata": {},
   "outputs": [
    {
     "data": {
      "text/plain": [
       "(0,0,0)"
      ]
     },
     "metadata": {},
     "output_type": "display_data"
    }
   ],
   "source": [
    "import Data.List.Split\n",
    "import qualified Data.Text as T\n",
    "\n",
    "step :: (Int, Int, Int) -> String -> (Int, Int, Int)\n",
    "step (x, y, z) dir = case dir of\n",
    "  \"n\" -> (x, y + 1, z - 1)\n",
    "  \"s\" -> (x, y - 1, z + 1)\n",
    "  \"nw\" -> (x - 1, y + 1, z)\n",
    "  \"ne\" -> (x + 1, y, z - 1)\n",
    "  \"se\" -> (x + 1, y - 1, z)\n",
    "  \"sw\" -> (x - 1, y, z + 1)\n",
    "\n",
    "run :: String -> (Int, Int, Int)\n",
    "run s = foldl step (0, 0, 0) $ splitOn \",\" $ clean s\n",
    "\n",
    "clean :: String -> String\n",
    "clean = T.unpack . T.strip . T.pack\n",
    "\n",
    "run \"ne,ne,sw,sw\""
   ]
  },
  {
   "cell_type": "code",
   "execution_count": 11,
   "metadata": {},
   "outputs": [
    {
     "data": {
      "text/plain": [
       "(-484,-324,808)"
      ]
     },
     "metadata": {},
     "output_type": "display_data"
    }
   ],
   "source": [
    "run <$> readFile \"input11.txt\""
   ]
  },
  {
   "cell_type": "code",
   "execution_count": 19,
   "metadata": {},
   "outputs": [],
   "source": [
    "distance :: (Int, Int, Int) -> Int\n",
    "distance (x, y, z) = quot (abs x + abs y + abs z) 2"
   ]
  },
  {
   "cell_type": "code",
   "execution_count": 20,
   "metadata": {},
   "outputs": [],
   "source": [
    "run2 s = maximum $ fmap distance\n",
    "                 $ scanl step (0, 0, 0)\n",
    "                 $ splitOn \",\"\n",
    "                 $ clean s"
   ]
  },
  {
   "cell_type": "code",
   "execution_count": 21,
   "metadata": {},
   "outputs": [
    {
     "data": {
      "text/plain": [
       "1556"
      ]
     },
     "metadata": {},
     "output_type": "display_data"
    }
   ],
   "source": [
    "run2 <$> readFile \"input11.txt\""
   ]
  },
  {
   "cell_type": "code",
   "execution_count": null,
   "metadata": {},
   "outputs": [],
   "source": []
  }
 ],
 "metadata": {
  "kernelspec": {
   "display_name": "Haskell",
   "language": "haskell",
   "name": "haskell"
  },
  "language_info": {
   "codemirror_mode": "ihaskell",
   "file_extension": ".hs",
   "name": "haskell",
   "version": "8.0.2"
  }
 },
 "nbformat": 4,
 "nbformat_minor": 2
}
