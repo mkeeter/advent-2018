{
 "cells": [
  {
   "cell_type": "code",
   "execution_count": 1,
   "metadata": {},
   "outputs": [],
   "source": [
    "import Text.Read\n",
    "import Data.Maybe\n",
    "import Data.Char\n",
    "import Data.List.Split\n",
    "import qualified Data.Vector as V\n",
    "import qualified Data.Map as M"
   ]
  },
  {
   "cell_type": "code",
   "execution_count": 2,
   "metadata": {},
   "outputs": [],
   "source": [
    "type Reg = Char\n",
    "data Value = Value Int | Register Reg deriving Show\n",
    "data Instruction = Send Value\n",
    "                 | Set Reg Value\n",
    "                 | Add Reg Value\n",
    "                 | Mul Reg Value\n",
    "                 | Mod Reg Value\n",
    "                 | Receive Reg\n",
    "                 | Jump Value Value deriving Show"
   ]
  },
  {
   "cell_type": "code",
   "execution_count": 3,
   "metadata": {},
   "outputs": [],
   "source": [
    "readRegister = head . dropWhile isSpace\n",
    "readValue s =\n",
    "  let r = Register $ readRegister s\n",
    "      v = Value <$> readMaybe s\n",
    "    in fromMaybe r v"
   ]
  },
  {
   "cell_type": "code",
   "execution_count": 4,
   "metadata": {},
   "outputs": [],
   "source": [
    "readLine :: String -> Instruction\n",
    "readLine s = case i of\n",
    "  \"snd\" -> Send (readValue $ args !! 0)\n",
    "  \"set\" -> Set (readRegister $ args !! 0)\n",
    "               (readValue $ args !! 1)\n",
    "  \"add\" -> Add (readRegister $ args !! 0)\n",
    "               (readValue $ args !! 1)\n",
    "  \"mul\" -> Mul (readRegister $ args !! 0)\n",
    "               (readValue $ args !! 1)\n",
    "  \"mod\" -> Mod (readRegister $ args !! 0)\n",
    "               (readValue $ args !! 1)\n",
    "  \"rcv\" -> Receive (readRegister $ args !! 0)\n",
    "  \"jgz\" -> Jump (readValue $ args !! 0)\n",
    "                (readValue $ args !! 1)\n",
    "  where i = take 3 s\n",
    "        args = splitOn \" \" $ drop 4 s"
   ]
  },
  {
   "cell_type": "code",
   "execution_count": 10,
   "metadata": {},
   "outputs": [],
   "source": [
    "type Machine = M.Map Reg Int\n",
    "type Pc = Int\n",
    "\n",
    "type Instructions = V.Vector Instruction\n",
    "step :: Instructions -> (Machine, Pc) -> [Int]\n",
    "                     -> Maybe (Machine, Pc, [Int], Maybe Int)\n",
    "step ins (m, pc) c = \n",
    "  if (pc < 0 || pc >= V.length ins) then Nothing else\n",
    "  case i of\n",
    "  Send v -> Just $ (m, pc + 1, c, Just $ getValue v)\n",
    "  Set a b -> Just $ (setValue a b, pc + 1, c, Nothing)\n",
    "  Add a b -> Just $ (setValue a $ Value\n",
    "                         $ (getValue b) +\n",
    "                           (getValue $ Register a),\n",
    "              pc + 1, c, Nothing)\n",
    "  Mul a b -> Just $ (setValue a $ Value\n",
    "                         $ (getValue b) *\n",
    "                           (getValue $ Register a),\n",
    "              pc + 1, c, Nothing)\n",
    "  Mod a b -> Just $ (setValue a $ Value\n",
    "                         $ (getValue $ Register a) `mod`\n",
    "                           (getValue b),\n",
    "              pc + 1, c, Nothing)\n",
    "  Receive v -> if (null c)\n",
    "               then Nothing\n",
    "               else Just $ (setValue v $ Value $ head c, pc + 1, tail c, Nothing)\n",
    "  Jump a b -> Just $ if (getValue a > 0) then (m, pc + getValue b, c, Nothing)\n",
    "                                  else (m, pc + 1, c, Nothing)\n",
    "  where i = ins V.! pc\n",
    "        getValue (Value i) = i\n",
    "        getValue (Register r) = fromMaybe 0 $ M.lookup r m\n",
    "        setValue r v = M.insert r (getValue v) m"
   ]
  },
  {
   "cell_type": "code",
   "execution_count": 11,
   "metadata": {},
   "outputs": [],
   "source": [
    "run :: Instructions -> Int -> [Int] -> [Int]\n",
    "run ins i c = run' ins (M.singleton 'p' i, 0) c\n",
    "\n",
    "run' ins mpc@(_, pc) ch =\n",
    "  let r = (step ins mpc ch)\n",
    "  in if isJust r then\n",
    "    let (m', pc', ch', o) = fromJust r in\n",
    "      if isJust o\n",
    "        then fromJust o:(run' ins (m', pc') ch')\n",
    "        else (run' ins (m', pc') ch')\n",
    "    else []"
   ]
  },
  {
   "cell_type": "code",
   "execution_count": 7,
   "metadata": {},
   "outputs": [],
   "source": [
    "ins = V.fromList [Set 'i' (Value 31),Set 'a' (Value 1),Mul 'p' (Value 17),Jump (Register 'p') (Register 'p'),Mul 'a' (Value 2),Add 'i' (Value (-1)),Jump (Register 'i') (Value (-2)),Add 'a' (Value (-1)),Set 'i' (Value 127),Set 'p' (Value 622),Mul 'p' (Value 8505),Mod 'p' (Register 'a'),Mul 'p' (Value 129749),Add 'p' (Value 12345),Mod 'p' (Register 'a'),Set 'b' (Register 'p'),Mod 'b' (Value 10000),Send (Register 'b'),Add 'i' (Value (-1)),Jump (Register 'i') (Value (-9)),Jump (Register 'a') (Value 3),Receive 'b',Jump (Register 'b') (Value (-1)),Set 'f' (Value 0),Set 'i' (Value 126),Receive 'a',Receive 'b',Set 'p' (Register 'a'),Mul 'p' (Value (-1)),Add 'p' (Register 'b'),Jump (Register 'p') (Value 4),Send (Register 'a'),Set 'a' (Register 'b'),Jump (Value 1) (Value 3),Send (Register 'b'),Set 'f' (Value 1),Add 'i' (Value (-1)),Jump (Register 'i') (Value (-11)),Send (Register 'a'),Jump (Register 'f') (Value (-16)),Jump (Register 'a') (Value (-19))]\n",
    "ra = run ins 0 rb\n",
    "rb = run ins 1 ra"
   ]
  },
  {
   "cell_type": "code",
   "execution_count": 9,
   "metadata": {
    "scrolled": false
   },
   "outputs": [
    {
     "data": {
      "text/plain": [
       "7620"
      ]
     },
     "metadata": {},
     "output_type": "display_data"
    }
   ],
   "source": [
    "head $ drop 7620 $ scanl (+) 0 $ fmap (const 1) rb"
   ]
  },
  {
   "cell_type": "code",
   "execution_count": null,
   "metadata": {},
   "outputs": [],
   "source": []
  }
 ],
 "metadata": {
  "kernelspec": {
   "display_name": "Haskell",
   "language": "haskell",
   "name": "haskell"
  },
  "language_info": {
   "codemirror_mode": "ihaskell",
   "file_extension": ".hs",
   "name": "haskell",
   "version": "8.0.2"
  }
 },
 "nbformat": 4,
 "nbformat_minor": 2
}
