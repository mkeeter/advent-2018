{
 "cells": [
  {
   "cell_type": "code",
   "execution_count": 2,
   "metadata": {},
   "outputs": [],
   "source": [
    "import qualified Data.Map as M\n",
    "import Data.List.Split\n",
    "import Data.Maybe\n",
    "import Linear.V2\n",
    "import Linear.Matrix"
   ]
  },
  {
   "cell_type": "code",
   "execution_count": 10,
   "metadata": {},
   "outputs": [],
   "source": [
    "data Cell = Clean | Weakened | Infected | Flagged deriving (Show, Eq)\n",
    "type Grid = M.Map (V2 Int) Cell"
   ]
  },
  {
   "cell_type": "code",
   "execution_count": 11,
   "metadata": {},
   "outputs": [],
   "source": [
    "readLine :: Int -> Grid -> String -> Grid\n",
    "readLine i g s = foldl (\\g' k -> M.insert (V2 i k) Infected g')\n",
    "                        g [k | (k,c) <- zip [0..] s, c == '#']"
   ]
  },
  {
   "cell_type": "code",
   "execution_count": 12,
   "metadata": {},
   "outputs": [
    {
     "data": {
      "text/plain": [
       "fromList [(V2 0 0,Infected),(V2 0 1,Infected),(V2 0 4,Infected)]"
      ]
     },
     "metadata": {},
     "output_type": "display_data"
    }
   ],
   "source": [
    "readLine 0 M.empty \"##..#.\" "
   ]
  },
  {
   "cell_type": "code",
   "execution_count": 13,
   "metadata": {},
   "outputs": [],
   "source": [
    "load :: String -> Grid\n",
    "load s = foldl (\\g' (i,line) -> readLine i g' line) M.empty\n",
    "         $ zip [0..] $ lines s"
   ]
  },
  {
   "cell_type": "code",
   "execution_count": 16,
   "metadata": {},
   "outputs": [],
   "source": [
    "rotateL = V2 (V2 0 (-1)) (V2 1 0)\n",
    "rotateR = V2 (V2 0 1) (V2 (-1) 0)\n",
    "continue = V2 (V2 1 0) (V2 0 1)\n",
    "reverseDir = V2 (V2 (-1) 0) (V2 0 (-1))\n",
    "\n",
    "step :: (Grid, V2 Int, V2 Int) -> (Grid, V2 Int, V2 Int)\n",
    "step (g, pos, dir) =\n",
    "  let infected = fromMaybe Clean $ M.lookup pos g\n",
    "      m= case infected of\n",
    "              Clean -> rotateL\n",
    "              Weakened -> continue\n",
    "              Infected -> rotateR\n",
    "              Flagged -> reverseDir\n",
    "      dir' = m !* dir\n",
    "      g' = case infected of\n",
    "              Clean -> M.insert pos Weakened g\n",
    "              Weakened -> M.insert pos Infected g\n",
    "              Infected -> M.insert pos Flagged g\n",
    "              Flagged -> M.delete pos g\n",
    "      pos' = pos + dir'\n",
    "    in (g', pos', dir')"
   ]
  },
  {
   "cell_type": "code",
   "execution_count": 25,
   "metadata": {},
   "outputs": [
    {
     "data": {
      "text/html": [
       "<style>/* Styles used for the Hoogle display in the pager */\n",
       ".hoogle-doc {\n",
       "display: block;\n",
       "padding-bottom: 1.3em;\n",
       "padding-left: 0.4em;\n",
       "}\n",
       ".hoogle-code {\n",
       "display: block;\n",
       "font-family: monospace;\n",
       "white-space: pre;\n",
       "}\n",
       ".hoogle-text {\n",
       "display: block;\n",
       "}\n",
       ".hoogle-name {\n",
       "color: green;\n",
       "font-weight: bold;\n",
       "}\n",
       ".hoogle-head {\n",
       "font-weight: bold;\n",
       "}\n",
       ".hoogle-sub {\n",
       "display: block;\n",
       "margin-left: 0.4em;\n",
       "}\n",
       ".hoogle-package {\n",
       "font-weight: bold;\n",
       "font-style: italic;\n",
       "}\n",
       ".hoogle-module {\n",
       "font-weight: bold;\n",
       "}\n",
       ".hoogle-class {\n",
       "font-weight: bold;\n",
       "}\n",
       ".get-type {\n",
       "color: green;\n",
       "font-weight: bold;\n",
       "font-family: monospace;\n",
       "display: block;\n",
       "white-space: pre-wrap;\n",
       "}\n",
       ".show-type {\n",
       "color: green;\n",
       "font-weight: bold;\n",
       "font-family: monospace;\n",
       "margin-left: 1em;\n",
       "}\n",
       ".mono {\n",
       "font-family: monospace;\n",
       "display: block;\n",
       "}\n",
       ".err-msg {\n",
       "color: red;\n",
       "font-style: italic;\n",
       "font-family: monospace;\n",
       "white-space: pre;\n",
       "display: block;\n",
       "}\n",
       "#unshowable {\n",
       "color: red;\n",
       "font-weight: bold;\n",
       "}\n",
       ".err-msg.in.collapse {\n",
       "padding-top: 0.7em;\n",
       "}\n",
       ".highlight-code {\n",
       "white-space: pre;\n",
       "font-family: monospace;\n",
       "}\n",
       ".suggestion-warning { \n",
       "font-weight: bold;\n",
       "color: rgb(200, 130, 0);\n",
       "}\n",
       ".suggestion-error { \n",
       "font-weight: bold;\n",
       "color: red;\n",
       "}\n",
       ".suggestion-name {\n",
       "font-weight: bold;\n",
       "}\n",
       "</style><div class=\"suggestion-name\" style=\"clear:both;\">Move brackets to avoid $</div><div class=\"suggestion-row\" style=\"float: left;\"><div class=\"suggestion-warning\">Found:</div><div class=\"highlight-code\" id=\"haskell\">Weakened == (fromMaybe Clean $ M.lookup p g)</div></div><div class=\"suggestion-row\" style=\"float: left;\"><div class=\"suggestion-warning\">Why Not:</div><div class=\"highlight-code\" id=\"haskell\">Weakened == fromMaybe Clean (M.lookup p g)</div></div>"
      ],
      "text/plain": [
       "Line 7: Move brackets to avoid $\n",
       "Found:\n",
       "Weakened == (fromMaybe Clean $ M.lookup p g)\n",
       "Why not:\n",
       "Weakened == fromMaybe Clean (M.lookup p g)"
      ]
     },
     "metadata": {},
     "output_type": "display_data"
    },
    {
     "data": {
      "text/plain": [
       "2511927"
      ]
     },
     "metadata": {},
     "output_type": "display_data"
    }
   ],
   "source": [
    "do\n",
    "  d <- readFile \"input22.txt\"\n",
    "  let g = load d\n",
    "  let size = length $ head $ lines d\n",
    "  let center = size `quot` 2\n",
    "  return $ length\n",
    "         $ filter (\\(g,p,_) -> Weakened == (fromMaybe Clean $ M.lookup p g))\n",
    "         $ take 10000000 $ iterate step (g, V2 center center, V2 (-1) 0)\n"
   ]
  },
  {
   "cell_type": "code",
   "execution_count": 54,
   "metadata": {},
   "outputs": [
    {
     "data": {
      "text/plain": [
       "1"
      ]
     },
     "metadata": {},
     "output_type": "display_data"
    }
   ],
   "source": []
  },
  {
   "cell_type": "code",
   "execution_count": null,
   "metadata": {},
   "outputs": [],
   "source": []
  }
 ],
 "metadata": {
  "kernelspec": {
   "display_name": "Haskell",
   "language": "haskell",
   "name": "haskell"
  },
  "language_info": {
   "codemirror_mode": "ihaskell",
   "file_extension": ".hs",
   "name": "haskell",
   "version": "8.0.2"
  }
 },
 "nbformat": 4,
 "nbformat_minor": 2
}
