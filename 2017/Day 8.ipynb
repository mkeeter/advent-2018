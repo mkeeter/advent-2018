{
 "cells": [
  {
   "cell_type": "code",
   "execution_count": 58,
   "metadata": {},
   "outputs": [],
   "source": [
    "import Data.Maybe\n",
    "import Data.Foldable\n",
    "import qualified Data.Map as Map"
   ]
  },
  {
   "cell_type": "code",
   "execution_count": 59,
   "metadata": {},
   "outputs": [],
   "source": [
    "data Instruction = Instruction { target::String,\n",
    "                                 op::Int -> Int,\n",
    "                                 cond::String,\n",
    "                                 predicate::Int -> Bool}\n",
    "\n",
    "-- Parse lines in the form \"c inc -20 if c == 10\"\n",
    "readLine :: String -> Instruction\n",
    "readLine s =\n",
    "    let ws = words s\n",
    "        target_register = ws !! 0\n",
    "        delta = read $ ws !! 2\n",
    "        target_op = case (ws !! 1) of\n",
    "             \"inc\" -> (+)\n",
    "             \"dec\" -> (-)\n",
    "        cond_register = ws !! 4\n",
    "        cond_value = read $ ws !! 6\n",
    "        cond_op = case (ws !! 5) of\n",
    "             \"==\" -> (==)\n",
    "             \"!=\" -> (/=)\n",
    "             \">\"  -> (>)\n",
    "             \">=\"  -> (>=)\n",
    "             \"<\"  -> (<)\n",
    "             \"<=\"  -> (<=)\n",
    "        in Instruction target_register (flip target_op delta)\n",
    "                       cond_register (flip cond_op cond_value)"
   ]
  },
  {
   "cell_type": "code",
   "execution_count": 60,
   "metadata": {},
   "outputs": [],
   "source": [
    "type Machine = Map.Map String Int\n",
    "\n",
    "run :: Machine -> Instruction -> Machine\n",
    "run m i = Map.insert (target i)\n",
    "    (if (predicate i) (get $ cond i)\n",
    "     then (op i) (get $ target i)\n",
    "     else get $ target i)\n",
    "    m\n",
    "  where get s = fromMaybe 0 $ Map.lookup s m"
   ]
  },
  {
   "cell_type": "code",
   "execution_count": 79,
   "metadata": {},
   "outputs": [
    {
     "data": {
      "text/plain": [
       "8022"
      ]
     },
     "metadata": {},
     "output_type": "display_data"
    }
   ],
   "source": [
    "maximum . Map.elems . foldl run Map.empty . fmap readLine . lines <$> readFile \"input8.txt\""
   ]
  },
  {
   "cell_type": "code",
   "execution_count": 78,
   "metadata": {},
   "outputs": [
    {
     "data": {
      "text/plain": [
       "9819"
      ]
     },
     "metadata": {},
     "output_type": "display_data"
    }
   ],
   "source": [
    "maximum . concatMap Map.elems . scanl run Map.empty . fmap readLine . lines <$> readFile \"input8.txt\""
   ]
  },
  {
   "cell_type": "code",
   "execution_count": null,
   "metadata": {},
   "outputs": [],
   "source": []
  }
 ],
 "metadata": {
  "kernelspec": {
   "display_name": "Haskell",
   "language": "haskell",
   "name": "haskell"
  },
  "language_info": {
   "codemirror_mode": "ihaskell",
   "file_extension": ".hs",
   "name": "haskell",
   "version": "8.0.2"
  }
 },
 "nbformat": 4,
 "nbformat_minor": 2
}
