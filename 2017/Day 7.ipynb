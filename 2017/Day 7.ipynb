{
 "cells": [
  {
   "cell_type": "code",
   "execution_count": 91,
   "metadata": {},
   "outputs": [],
   "source": [
    "import Data.Char\n",
    "import Data.List.Split\n",
    "import qualified Data.Map as Map\n",
    "import qualified Data.Set as Set\n",
    "import Data.Maybe\n",
    "import Debug.Trace"
   ]
  },
  {
   "cell_type": "code",
   "execution_count": 65,
   "metadata": {},
   "outputs": [],
   "source": [
    "data Tower' = Tower' {name::String, weight::Int, children::[String]}\n",
    "  deriving Show"
   ]
  },
  {
   "cell_type": "code",
   "execution_count": 156,
   "metadata": {},
   "outputs": [],
   "source": [
    "parseChildren :: String -> [String]\n",
    "parseChildren s\n",
    "    | null s' = []\n",
    "    | otherwise = child:(parseChildren b)\n",
    "    where s' = dropWhile (not . isLower) s\n",
    "          (child, b) = span isLower s'\n",
    "      \n",
    "parseLine :: String -> Tower'\n",
    "parseLine a =\n",
    "  let (name, b) = span isLower a\n",
    "      (weight, cs) = span isDigit (drop 2 b)\n",
    "    in Tower' name (read weight) (parseChildren cs)"
   ]
  },
  {
   "cell_type": "code",
   "execution_count": 157,
   "metadata": {},
   "outputs": [],
   "source": [
    "parse :: String -> [Tower']\n",
    "parse = fmap parseLine . splitOn \"\\n\""
   ]
  },
  {
   "cell_type": "code",
   "execution_count": 158,
   "metadata": {},
   "outputs": [],
   "source": [
    "part1 :: [Tower'] -> String\n",
    "part1 ts =\n",
    "  let ts' = filter (not . null . children) ts\n",
    "      cs = concat $ children <$> ts'\n",
    "      s = foldl (flip Set.insert) Set.empty cs\n",
    "  in fromJust $ find (not . flip Set.member s) (name <$> ts')"
   ]
  },
  {
   "cell_type": "code",
   "execution_count": 159,
   "metadata": {},
   "outputs": [
    {
     "data": {
      "text/plain": [
       "\"bpvhwhh\""
      ]
     },
     "metadata": {},
     "output_type": "display_data"
    }
   ],
   "source": [
    "part1 . parse <$> readFile \"input7.txt\""
   ]
  },
  {
   "cell_type": "code",
   "execution_count": 160,
   "metadata": {},
   "outputs": [],
   "source": [
    "towers :: [Tower'] -> Map.Map String Tower'\n",
    "towers ts = foldl (\\m t -> Map.insert (name t) t m) Map.empty ts"
   ]
  },
  {
   "cell_type": "code",
   "execution_count": 161,
   "metadata": {},
   "outputs": [],
   "source": [
    "fullWeight :: Map.Map String Tower' -> String -> Int\n",
    "fullWeight ts t =\n",
    "  let t' = fromJust $ Map.lookup t ts\n",
    "      in (weight t') + (sum $ map (fullWeight ts) (children t'))"
   ]
  },
  {
   "cell_type": "code",
   "execution_count": 162,
   "metadata": {},
   "outputs": [
    {
     "data": {
      "text/plain": [
       "251"
      ]
     },
     "metadata": {},
     "output_type": "display_data"
    }
   ],
   "source": [
    "boop f s =\n",
    "  let ts = parse s\n",
    "      tsm = towers ts\n",
    "      in fullWeight tsm f\n",
    "boop \"ugml\" <$> readFile \"input7_.txt\""
   ]
  },
  {
   "cell_type": "code",
   "execution_count": 201,
   "metadata": {},
   "outputs": [],
   "source": [
    "part2 :: [Tower'] -> Int\n",
    "part2 ts =\n",
    "  let t = fromJust $ find (invalid . name) ts\n",
    "      ws = map (fullWeight tsm) (children t)\n",
    "      cmp a b = compare (length a) (length b)\n",
    "      ws' =  group $ sort ws\n",
    "      correct = head $ maximumBy cmp ws'\n",
    "      incorrect = head $ minimumBy cmp ws'\n",
    "      t' = get $ snd $ fromJust $ find ((==) incorrect . fst)\n",
    "                                $ zip ws (children t)\n",
    "      in weight t' + (correct - incorrect)\n",
    "  where tsm = towers ts\n",
    "        get t = fromJust $ Map.lookup t tsm\n",
    "        invalid :: String -> Bool\n",
    "        invalid t =\n",
    "          let ws = map (fullWeight tsm) (children $ get t)\n",
    "           in length (nub ws) > 1"
   ]
  },
  {
   "cell_type": "code",
   "execution_count": 202,
   "metadata": {},
   "outputs": [
    {
     "data": {
      "text/plain": [
       "256"
      ]
     },
     "metadata": {},
     "output_type": "display_data"
    }
   ],
   "source": [
    "part2 . parse <$> readFile \"input7.txt\""
   ]
  },
  {
   "cell_type": "code",
   "execution_count": 177,
   "metadata": {},
   "outputs": [],
   "source": [
    "boop f = head $ maximumBy (\\a b -> compare (length a) (length b)) $ group $ sort f"
   ]
  },
  {
   "cell_type": "code",
   "execution_count": 176,
   "metadata": {},
   "outputs": [
    {
     "data": {
      "text/plain": [
       "[2062,2062]"
      ]
     },
     "metadata": {},
     "output_type": "display_data"
    }
   ],
   "source": []
  },
  {
   "cell_type": "code",
   "execution_count": null,
   "metadata": {},
   "outputs": [],
   "source": []
  }
 ],
 "metadata": {
  "kernelspec": {
   "display_name": "Haskell",
   "language": "haskell",
   "name": "haskell"
  },
  "language_info": {
   "codemirror_mode": "ihaskell",
   "file_extension": ".hs",
   "name": "haskell",
   "version": "8.0.2"
  }
 },
 "nbformat": 4,
 "nbformat_minor": 2
}
