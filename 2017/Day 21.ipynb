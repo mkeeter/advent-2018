{
 "cells": [
  {
   "cell_type": "code",
   "execution_count": 81,
   "metadata": {},
   "outputs": [],
   "source": [
    "from itertools import *\n",
    "import numpy as np\n",
    "from math import *\n",
    "\n",
    "def read_line(s, m):\n",
    "    a, *_, b = s.split(' ')\n",
    "    a = a.replace('/','')\n",
    "    b = b.replace('/','')\n",
    "    m[a] = b\n",
    "    m[rotate(a)] = b\n",
    "    m[rotate(a, 2)] = b\n",
    "    m[rotate(a, 3)] = b\n",
    "    a = reflect(a)\n",
    "    m[a] = b\n",
    "    m[rotate(a)] = b\n",
    "    m[rotate(a, 2)] = b\n",
    "    m[rotate(a, 3)] = b\n",
    "\n",
    "def rotate(p, k=1):\n",
    "    s = int(sqrt(len(p)))\n",
    "    a = np.array(list(p)).reshape(s,s)\n",
    "    return ''.join(np.rot90(a, k).ravel())\n",
    "\n",
    "def reflect(p):\n",
    "    s = int(sqrt(len(p)))\n",
    "    a = np.array(list(p)).reshape(s,s)\n",
    "    return ''.join(a[:,::-1].ravel())\n",
    "    \n",
    "m = {}\n",
    "for line in open(\"input21.txt\").readlines():\n",
    "    read_line(line.strip(), m)"
   ]
  },
  {
   "cell_type": "code",
   "execution_count": 99,
   "metadata": {},
   "outputs": [
    {
     "data": {
      "text/plain": [
       "1277716"
      ]
     },
     "execution_count": 99,
     "metadata": {},
     "output_type": "execute_result"
    }
   ],
   "source": [
    "def step(g, m):\n",
    "    s = 2 if (g.shape[0] % 2) == 0 else 3\n",
    "    s_ = 4 if s == 3 else 3\n",
    "    new_size = (g.shape[0] // s) * (s + 1)\n",
    "    out = np.zeros((new_size, new_size), dtype='<U1')\n",
    "    for i,i_ in zip(range(0, g.shape[0], s), range(0, new_size, s + 1)):\n",
    "        for j,j_ in zip(range(0, g.shape[1], s), range(0, new_size, s + 1)):\n",
    "            chunk = ''.join(g[i:i+s,j:j+s].ravel())\n",
    "            out[i_:i_+s_,j_:j_+s_] = np.array(list(m[chunk])).reshape(s_, s_)\n",
    "    return out\n",
    "\n",
    "g = np.array(list('.#...####')).reshape(3,3)\n",
    "for i in range(18):\n",
    "    g = step(g, m)\n",
    "sum(g.ravel() == '#')"
   ]
  },
  {
   "cell_type": "code",
   "execution_count": null,
   "metadata": {},
   "outputs": [],
   "source": []
  }
 ],
 "metadata": {
  "kernelspec": {
   "display_name": "Python 3",
   "language": "python",
   "name": "python3"
  },
  "language_info": {
   "codemirror_mode": {
    "name": "ipython",
    "version": 3
   },
   "file_extension": ".py",
   "mimetype": "text/x-python",
   "name": "python",
   "nbconvert_exporter": "python",
   "pygments_lexer": "ipython3",
   "version": "3.6.3"
  }
 },
 "nbformat": 4,
 "nbformat_minor": 2
}
