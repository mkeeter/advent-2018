{
 "cells": [
  {
   "cell_type": "code",
   "execution_count": 126,
   "metadata": {},
   "outputs": [],
   "source": [
    "from math import *"
   ]
  },
  {
   "cell_type": "code",
   "execution_count": 127,
   "metadata": {},
   "outputs": [],
   "source": [
    "def pos(i):\n",
    "    lr = ceil(sqrt(i))\n",
    "    if lr & 1 == 0:\n",
    "        lr += 1\n",
    "\n",
    "    # Corner distance\n",
    "    c = (lr - 1) // 2\n",
    "\n",
    "    # Corner values\n",
    "    vs = range(lr**2 - 3 * (lr - 1), lr**2 + 1, lr - 1)\n",
    "    \n",
    "    # Zip corner values with positions and directions\n",
    "    vs = zip(vs, [(np.array([ 1,  1]), np.array([ 0, -1])),\n",
    "                  (np.array([-1,  1]), np.array([ 1,  0])),\n",
    "                  (np.array([-1, -1]), np.array([ 0,  1])),\n",
    "                  (np.array([ 1, -1]), np.array([-1,  0]))])\n",
    "    \n",
    "    # Pick out which side we're on\n",
    "    v = [v for v in vs if i <= v[0]][0]\n",
    "    return v[1][0] * c + v[1][1] * (v[0] - i)\n"
   ]
  },
  {
   "cell_type": "code",
   "execution_count": 128,
   "metadata": {},
   "outputs": [],
   "source": [
    "def run(i):\n",
    "    return np.sum(np.abs(pos(i)))"
   ]
  },
  {
   "cell_type": "code",
   "execution_count": 131,
   "metadata": {},
   "outputs": [
    {
     "data": {
      "text/plain": [
       "430"
      ]
     },
     "execution_count": 131,
     "metadata": {},
     "output_type": "execute_result"
    }
   ],
   "source": [
    "i = 312051\n",
    "run(i)"
   ]
  },
  {
   "cell_type": "code",
   "execution_count": 142,
   "metadata": {},
   "outputs": [
    {
     "name": "stdout",
     "output_type": "stream",
     "text": [
      "312453\n"
     ]
    }
   ],
   "source": [
    "c = 500\n",
    "a = np.zeros([2*c + 1] * 2, dtype=np.uint32)\n",
    "a[c, c] = 1\n",
    "\n",
    "i = 2\n",
    "while True:\n",
    "    p = pos(i)\n",
    "    i += 1\n",
    "    s = np.sum(\n",
    "      a[p[0] + c - 1:p[0] + c + 2,\n",
    "        p[1] + c - 1:p[1] + c + 2].ravel())\n",
    "    if s > 312051:\n",
    "        print(s)\n",
    "        break\n",
    "    a[p[0] + c, p[1] + c] = s\n",
    "    "
   ]
  },
  {
   "cell_type": "code",
   "execution_count": null,
   "metadata": {},
   "outputs": [],
   "source": []
  }
 ],
 "metadata": {
  "kernelspec": {
   "display_name": "Python 3",
   "language": "python",
   "name": "python3"
  },
  "language_info": {
   "codemirror_mode": {
    "name": "ipython",
    "version": 3
   },
   "file_extension": ".py",
   "mimetype": "text/x-python",
   "name": "python",
   "nbconvert_exporter": "python",
   "pygments_lexer": "ipython3",
   "version": "3.6.3"
  }
 },
 "nbformat": 4,
 "nbformat_minor": 2
}
