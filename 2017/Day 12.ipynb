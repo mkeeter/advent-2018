{
 "cells": [
  {
   "cell_type": "code",
   "execution_count": 58,
   "metadata": {},
   "outputs": [],
   "source": [
    "import qualified Data.Graph as G\n",
    "import qualified Data.Map as M\n",
    "import qualified Data.Set as S\n",
    "import qualified Data.Tree as T\n",
    "\n",
    "import Data.List.Split\n",
    "import Data.Maybe"
   ]
  },
  {
   "cell_type": "code",
   "execution_count": 32,
   "metadata": {},
   "outputs": [],
   "source": [
    "type EdgeMap = M.Map Int (S.Set Int)\n",
    "\n",
    "insertEdge :: EdgeMap -> Int -> Int -> EdgeMap\n",
    "insertEdge e a b = insertEdge' (insertEdge' e b a) a b\n",
    "  where insertEdge' e a b = M.insert a (S.insert b $ fromMaybe S.empty $ M.lookup a e) e"
   ]
  },
  {
   "cell_type": "code",
   "execution_count": 37,
   "metadata": {},
   "outputs": [],
   "source": [
    "readLine :: EdgeMap -> String -> EdgeMap\n",
    "readLine e s =\n",
    "  let (a:b:[]) = splitOn \" <-> \" s\n",
    "      a' = read a :: Int\n",
    "      b' = read $ \"[\" ++ b ++ \"]\" :: [Int]\n",
    "    in foldl (\\e k -> insertEdge e a' k) e b'"
   ]
  },
  {
   "cell_type": "code",
   "execution_count": 45,
   "metadata": {},
   "outputs": [],
   "source": [
    "toGraph e = \n",
    "  let (g,v,p) = G.graphFromEdges $ (\\(k,v) ->  ((), k, S.toList v)) <$> M.toList e"
   ]
  },
  {
   "cell_type": "code",
   "execution_count": 61,
   "metadata": {},
   "outputs": [
    {
     "data": {
      "text/plain": [
       "169"
      ]
     },
     "metadata": {},
     "output_type": "display_data"
    }
   ],
   "source": [
    "run1 s =\n",
    "  let ls = lines s\n",
    "      (g,v,p) = toGraph $ foldl readLine M.empty ls\n",
    "    in length . T.flatten . head $ G.dfs g [0]\n",
    "run1 <$> readFile \"input12.txt\""
   ]
  },
  {
   "cell_type": "code",
   "execution_count": 65,
   "metadata": {},
   "outputs": [
    {
     "data": {
      "text/plain": [
       "179"
      ]
     },
     "metadata": {},
     "output_type": "display_data"
    }
   ],
   "source": [
    "run2 s =\n",
    "  let ls = lines s\n",
    "      (g,v,p) = toGraph $ foldl readLine M.empty ls\n",
    "    in length $ G.dff g\n",
    "run2 <$> readFile \"input12.txt\""
   ]
  }
 ],
 "metadata": {
  "kernelspec": {
   "display_name": "Haskell",
   "language": "haskell",
   "name": "haskell"
  },
  "language_info": {
   "codemirror_mode": "ihaskell",
   "file_extension": ".hs",
   "name": "haskell",
   "version": "8.0.2"
  }
 },
 "nbformat": 4,
 "nbformat_minor": 2
}
