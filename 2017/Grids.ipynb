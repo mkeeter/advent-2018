{
 "cells": [
  {
   "cell_type": "code",
   "execution_count": 7,
   "metadata": {},
   "outputs": [],
   "source": [
    "import Linear\n",
    "import Control.Lens\n",
    "import Data.Maybe\n",
    "\n",
    "import qualified Data.Vector as V\n",
    "import Data.Vector ((!?))"
   ]
  },
  {
   "cell_type": "code",
   "execution_count": 8,
   "metadata": {},
   "outputs": [],
   "source": [
    "type Grid = V.Vector (V.Vector Char)\n",
    "\n",
    "at :: Grid -> V2 Int -> Char\n",
    "g `at` v = fromMaybe ' ' $ g !? (v ^._x) >>= (!? (v ^._y))"
   ]
  },
  {
   "cell_type": "code",
   "execution_count": 9,
   "metadata": {},
   "outputs": [],
   "source": [
    "runMaybe :: a -> (a -> Maybe a) -> [a]\n",
    "runMaybe a f = maybe [] (\\b -> b:runMaybe b f) (f a)"
   ]
  },
  {
   "cell_type": "code",
   "execution_count": null,
   "metadata": {},
   "outputs": [],
   "source": []
  }
 ],
 "metadata": {
  "kernelspec": {
   "display_name": "Haskell",
   "language": "haskell",
   "name": "haskell"
  },
  "language_info": {
   "codemirror_mode": "ihaskell",
   "file_extension": ".hs",
   "name": "haskell",
   "version": "8.0.2"
  }
 },
 "nbformat": 4,
 "nbformat_minor": 2
}
