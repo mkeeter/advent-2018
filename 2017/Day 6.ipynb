{
 "cells": [
  {
   "cell_type": "code",
   "execution_count": 7,
   "metadata": {},
   "outputs": [],
   "source": [
    "import Data.List\n",
    "import Data.List.Split\n",
    "import Data.Maybe\n",
    "\n",
    "import qualified Data.Set as Set\n",
    "import qualified Data.Sequence as S"
   ]
  },
  {
   "cell_type": "code",
   "execution_count": 8,
   "metadata": {},
   "outputs": [],
   "source": [
    "parse :: String -> [Int]\n",
    "parse = fmap read . splitOn \"\\t\""
   ]
  },
  {
   "cell_type": "code",
   "execution_count": 9,
   "metadata": {},
   "outputs": [],
   "source": [
    "step :: S.Seq Int -> S.Seq Int\n",
    "step d =\n",
    "  let m = maximum d\n",
    "      i = fromJust $ S.elemIndexL m d\n",
    "      targets = [(i + j) `mod` S.length d | j <- [1..m]]\n",
    "      in foldl (flip $ S.adjust (1 +)) (S.update i 0 d) targets\n",
    "\n",
    "run :: S.Seq Int -> Int\n",
    "run d =\n",
    "  let ds = iterate step d\n",
    "      ss = scanl (flip Set.insert) Set.empty ds\n",
    "  in  length $ takeWhile (not . uncurry Set.member) (zip ds ss)"
   ]
  },
  {
   "cell_type": "code",
   "execution_count": 10,
   "metadata": {},
   "outputs": [
    {
     "data": {
      "text/plain": [
       "14029"
      ]
     },
     "metadata": {},
     "output_type": "display_data"
    }
   ],
   "source": [
    "run . S.fromList . parse <$> readFile \"input6.txt\""
   ]
  },
  {
   "cell_type": "code",
   "execution_count": 11,
   "metadata": {},
   "outputs": [],
   "source": [
    "run2 :: S.Seq Int -> Int\n",
    "run2 d =\n",
    "  let ds = iterate step d\n",
    "      ss = scanl (flip Set.insert) Set.empty ds\n",
    "      rep = fromJust $ findIndex (uncurry Set.member) (zip ds ss)\n",
    "      dup = ds !! rep\n",
    "  in rep - (fromJust $ elemIndex dup ds)"
   ]
  },
  {
   "cell_type": "code",
   "execution_count": 12,
   "metadata": {},
   "outputs": [
    {
     "data": {
      "text/plain": [
       "2765"
      ]
     },
     "metadata": {},
     "output_type": "display_data"
    }
   ],
   "source": [
    "run2 . S.fromList . parse <$> readFile \"input6.txt\""
   ]
  },
  {
   "cell_type": "code",
   "execution_count": null,
   "metadata": {},
   "outputs": [],
   "source": []
  }
 ],
 "metadata": {
  "kernelspec": {
   "display_name": "Haskell",
   "language": "haskell",
   "name": "haskell"
  },
  "language_info": {
   "codemirror_mode": "ihaskell",
   "file_extension": ".hs",
   "name": "haskell",
   "version": "8.0.2"
  }
 },
 "nbformat": 4,
 "nbformat_minor": 2
}
