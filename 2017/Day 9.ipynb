{
 "cells": [
  {
   "cell_type": "code",
   "execution_count": 18,
   "metadata": {},
   "outputs": [],
   "source": [
    "trash :: String -> String\n",
    "trash ('>':rest) = rest\n",
    "trash ('!':i:rest) = trash rest\n",
    "trash (i:rest) = trash rest\n",
    "\n",
    "score :: String -> Int\n",
    "score s = score' s 0 where\n",
    "    score' ('{':rest) depth = score' rest (depth + 1)\n",
    "    score' ('}':rest) depth = depth + score' rest (depth - 1)\n",
    "    score' ('<':rest) depth = score' (trash rest) depth\n",
    "    score' (i:rest) depth = score' rest depth\n",
    "    score' [] depth = 0"
   ]
  },
  {
   "cell_type": "code",
   "execution_count": 20,
   "metadata": {},
   "outputs": [
    {
     "data": {
      "text/plain": [
       "True"
      ]
     },
     "metadata": {},
     "output_type": "display_data"
    },
    {
     "data": {
      "text/plain": [
       "True"
      ]
     },
     "metadata": {},
     "output_type": "display_data"
    },
    {
     "data": {
      "text/plain": [
       "True"
      ]
     },
     "metadata": {},
     "output_type": "display_data"
    },
    {
     "data": {
      "text/plain": [
       "True"
      ]
     },
     "metadata": {},
     "output_type": "display_data"
    },
    {
     "data": {
      "text/plain": [
       "True"
      ]
     },
     "metadata": {},
     "output_type": "display_data"
    },
    {
     "data": {
      "text/plain": [
       "True"
      ]
     },
     "metadata": {},
     "output_type": "display_data"
    },
    {
     "data": {
      "text/plain": [
       "True"
      ]
     },
     "metadata": {},
     "output_type": "display_data"
    },
    {
     "data": {
      "text/plain": [
       "True"
      ]
     },
     "metadata": {},
     "output_type": "display_data"
    }
   ],
   "source": [
    "score \"{}\" == 1\n",
    "score \"{{{}}}\" == 6\n",
    "score \"{{},{}}\" == 5\n",
    "score \"{{{},{},{{}}}}\" == 16\n",
    "score \"{<a>,<a>,<a>,<a>}\" == 1\n",
    "score \"{{<ab>},{<ab>},{<ab>},{<ab>}}\" == 9\n",
    "score \"{{<!!>},{<!!>},{<!!>},{<!!>}}\" == 9\n",
    "score \"{{<a!>},{<a!>},{<a!>},{<ab>}}\" == 3"
   ]
  },
  {
   "cell_type": "code",
   "execution_count": 21,
   "metadata": {},
   "outputs": [
    {
     "data": {
      "text/plain": [
       "23588"
      ]
     },
     "metadata": {},
     "output_type": "display_data"
    }
   ],
   "source": [
    "score <$> readFile \"input9.txt\""
   ]
  },
  {
   "cell_type": "code",
   "execution_count": 25,
   "metadata": {},
   "outputs": [],
   "source": [
    "countTrash :: String -> (Int, String)\n",
    "countTrash s = countTrash' s 0 where\n",
    "    countTrash' ('>':rest) n = (n, rest)\n",
    "    countTrash' ('!':i:rest) n = countTrash' rest n\n",
    "    countTrash' (i:rest) n = countTrash' rest (n + 1)\n",
    "\n",
    "scoreTrash :: String -> Int\n",
    "scoreTrash s = score' s 0 where\n",
    "    score' ('<':rest) n = let (m, rest') = countTrash rest in score' rest' (n + m)\n",
    "    score' (i:rest) n = score' rest n\n",
    "    score' [] n = n"
   ]
  },
  {
   "cell_type": "code",
   "execution_count": 28,
   "metadata": {},
   "outputs": [
    {
     "data": {
      "text/plain": [
       "10045"
      ]
     },
     "metadata": {},
     "output_type": "display_data"
    }
   ],
   "source": [
    "scoreTrash <$> readFile \"input9.txt\""
   ]
  },
  {
   "cell_type": "code",
   "execution_count": null,
   "metadata": {},
   "outputs": [],
   "source": []
  }
 ],
 "metadata": {
  "kernelspec": {
   "display_name": "Haskell",
   "language": "haskell",
   "name": "haskell"
  },
  "language_info": {
   "codemirror_mode": "ihaskell",
   "file_extension": ".hs",
   "name": "haskell",
   "version": "8.0.2"
  }
 },
 "nbformat": 4,
 "nbformat_minor": 2
}
