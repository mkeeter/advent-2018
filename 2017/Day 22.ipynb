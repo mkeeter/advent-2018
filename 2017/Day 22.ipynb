{
 "cells": [
  {
   "cell_type": "code",
   "execution_count": 27,
   "metadata": {},
   "outputs": [],
   "source": [
    "import qualified Data.Set as S\n",
    "import Data.List.Split\n",
    "import Data.Maybe\n",
    "import Linear.V2\n",
    "import Linear.Matrix"
   ]
  },
  {
   "cell_type": "code",
   "execution_count": 13,
   "metadata": {},
   "outputs": [],
   "source": [
    "type Grid = S.Set (V2 Int)"
   ]
  },
  {
   "cell_type": "code",
   "execution_count": 15,
   "metadata": {},
   "outputs": [],
   "source": [
    "readLine :: Int -> Grid -> String -> Grid\n",
    "readLine i g s = foldl (\\g' k -> S.insert (V2 i k) g')\n",
    "                        g [k | (k,c) <- zip [0..] s, c == '#']"
   ]
  },
  {
   "cell_type": "code",
   "execution_count": 17,
   "metadata": {},
   "outputs": [
    {
     "data": {
      "text/plain": [
       "fromList [V2 0 0,V2 0 1,V2 0 4]"
      ]
     },
     "metadata": {},
     "output_type": "display_data"
    }
   ],
   "source": [
    "readLine 0 S.empty \"##..#.\" "
   ]
  },
  {
   "cell_type": "code",
   "execution_count": 19,
   "metadata": {},
   "outputs": [],
   "source": [
    "load :: String -> Grid\n",
    "load s = foldl (\\g' (i,line) -> readLine i g' line) S.empty\n",
    "         $ zip [0..] $ lines s"
   ]
  },
  {
   "cell_type": "code",
   "execution_count": 44,
   "metadata": {},
   "outputs": [
    {
     "data": {
      "text/plain": [
       "2"
      ]
     },
     "metadata": {},
     "output_type": "display_data"
    }
   ],
   "source": [
    "floor $ 12 / 5"
   ]
  },
  {
   "cell_type": "code",
   "execution_count": 75,
   "metadata": {},
   "outputs": [],
   "source": [
    "rotateL = V2 (V2 0 (-1)) (V2 1 0)\n",
    "rotateR = V2 (V2 0 1) (V2 (-1) 0)\n",
    "\n",
    "step :: (Grid, V2 Int, V2 Int) -> (Grid, V2 Int, V2 Int)\n",
    "step (g, pos, dir) =\n",
    "  let infected = S.member pos g\n",
    "      dir' = (if infected then rotateR else rotateL) !* dir\n",
    "      g' = if infected then S.delete pos g else S.insert pos g\n",
    "      pos' = pos + dir'\n",
    "    in (g', pos', dir')"
   ]
  },
  {
   "cell_type": "code",
   "execution_count": 89,
   "metadata": {},
   "outputs": [
    {
     "data": {
      "text/plain": [
       "5261"
      ]
     },
     "metadata": {},
     "output_type": "display_data"
    }
   ],
   "source": [
    "do\n",
    "  d <- readFile \"input22.txt\"\n",
    "  let g = load d\n",
    "  let size = length $ head $ lines d\n",
    "  let center = size `quot` 2\n",
    "  return $ length $ filter (\\(g,p,_) -> not $ S.member p g) $ take 10000 $ iterate step (g, V2 center center, V2 (-1) 0)"
   ]
  },
  {
   "cell_type": "code",
   "execution_count": 54,
   "metadata": {},
   "outputs": [
    {
     "data": {
      "text/plain": [
       "1"
      ]
     },
     "metadata": {},
     "output_type": "display_data"
    }
   ],
   "source": []
  },
  {
   "cell_type": "code",
   "execution_count": null,
   "metadata": {},
   "outputs": [],
   "source": []
  }
 ],
 "metadata": {
  "kernelspec": {
   "display_name": "Haskell",
   "language": "haskell",
   "name": "haskell"
  },
  "language_info": {
   "codemirror_mode": "ihaskell",
   "file_extension": ".hs",
   "name": "haskell",
   "version": "8.0.2"
  }
 },
 "nbformat": 4,
 "nbformat_minor": 2
}
