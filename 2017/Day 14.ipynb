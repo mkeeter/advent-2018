{
 "cells": [
  {
   "cell_type": "code",
   "execution_count": 1,
   "metadata": {},
   "outputs": [],
   "source": [
    "import Data.Bits\n",
    "import Data.Char\n",
    "import Numeric\n",
    "import qualified Data.Vector.Unboxed as V\n",
    "import qualified Data.Set as S"
   ]
  },
  {
   "cell_type": "code",
   "execution_count": 2,
   "metadata": {},
   "outputs": [],
   "source": [
    "twist :: Int -> Int -> [Int] -> [Int]\n",
    "twist i len ks =\n",
    "  let (before, after) = splitAt i ks\n",
    "      unwrapped = after ++ before\n",
    "      (a, b) = splitAt len unwrapped\n",
    "      a' = reverse a\n",
    "      unwrapped' = a' ++ b\n",
    "  in uncurry (flip (++)) $ splitAt (length after) unwrapped'"
   ]
  },
  {
   "cell_type": "code",
   "execution_count": 3,
   "metadata": {},
   "outputs": [],
   "source": [
    "run :: [Int] -> [Int] -> [Int]\n",
    "run ks lens = run' ks lens 0 0\n",
    "  where run' ks [] pos skip = ks\n",
    "        run' ks (len:lens) pos skip =\n",
    "          run' (twist pos len ks) lens (mod (pos + skip + len) (length ks)) (skip + 1)"
   ]
  },
  {
   "cell_type": "code",
   "execution_count": 4,
   "metadata": {},
   "outputs": [],
   "source": [
    "hash :: String -> [Int]\n",
    "hash s =\n",
    "  let lens = map ord s ++ [17, 31, 73, 47, 23]\n",
    "      sparse = run [0..255] $ concat $ replicate 64 lens\n",
    "      in getDense sparse\n",
    "      \n",
    "  where getDense :: [Int] -> [Int]\n",
    "        getDense [] = []\n",
    "        getDense s = let (a,b) = splitAt 16 s in (foldl xor 0 a):(getDense b)"
   ]
  },
  {
   "cell_type": "code",
   "execution_count": 5,
   "metadata": {},
   "outputs": [
    {
     "data": {
      "text/plain": [
       "8074"
      ]
     },
     "metadata": {},
     "output_type": "display_data"
    }
   ],
   "source": [
    "sum $ popCount <$> concat [hash $ \"jzgqcdpd-\" ++ show i | i <- [0..127]]"
   ]
  },
  {
   "cell_type": "code",
   "execution_count": 6,
   "metadata": {},
   "outputs": [],
   "source": [
    "explode :: Int -> [Int]\n",
    "explode i = reverse [if testBit i b then 1 else 0 | b <- [ 0..7]]"
   ]
  },
  {
   "cell_type": "code",
   "execution_count": 7,
   "metadata": {},
   "outputs": [],
   "source": [
    "flat = concatMap explode $ concat [hash $ \"jzgqcdpd-\" ++ show i | i <- [0..127]]"
   ]
  },
  {
   "cell_type": "code",
   "execution_count": 8,
   "metadata": {},
   "outputs": [],
   "source": [
    "vec = V.fromList [if a /= 0 then b else 0 | (a, b) <- zip flat $ scanl (+) 1 flat]"
   ]
  },
  {
   "cell_type": "code",
   "execution_count": 9,
   "metadata": {},
   "outputs": [],
   "source": [
    "toIndex :: Int -> Int -> Int\n",
    "toIndex row col = (col * 128 + row)\n",
    "\n",
    "fromIndex :: Int -> (Int, Int)\n",
    "fromIndex i = quotRem i 128"
   ]
  },
  {
   "cell_type": "code",
   "execution_count": 10,
   "metadata": {},
   "outputs": [],
   "source": [
    "cell :: V.Vector Int -> Int -> Int -> Int\n",
    "cell v row col = if ((row < 0) || (row > 127) || (col < 0) || (col > 127)) then 0\n",
    "                 else v V.! (toIndex row col)"
   ]
  },
  {
   "cell_type": "code",
   "execution_count": 11,
   "metadata": {},
   "outputs": [],
   "source": [
    "maxNeighbor :: V.Vector Int -> Int -> Int -> Int\n",
    "maxNeighbor v row col = maximum [cell v (row + i) (col + j) | (i,j) <- [(1,1), (-1,1), (1,-1), (-1,-1)]]"
   ]
  },
  {
   "cell_type": "code",
   "execution_count": 12,
   "metadata": {},
   "outputs": [],
   "source": [
    "updateList v = [(toIndex row col, maxNeighbor v row col) | row <- [0..127], col <- [0..127],\n",
    "                maxNeighbor v row col /= 0]"
   ]
  },
  {
   "cell_type": "code",
   "execution_count": 13,
   "metadata": {},
   "outputs": [],
   "source": [
    "update :: V.Vector Int -> V.Vector Int\n",
    "update v = let l = updateList v in\n",
    "  if null l then v else update $ v V.// (updateList v)"
   ]
  },
  {
   "cell_type": "code",
   "execution_count": null,
   "metadata": {},
   "outputs": [],
   "source": [
    "S.size $ S.fromList $ V.toList $ update vec"
   ]
  },
  {
   "cell_type": "code",
   "execution_count": null,
   "metadata": {},
   "outputs": [],
   "source": []
  }
 ],
 "metadata": {
  "kernelspec": {
   "display_name": "Haskell",
   "language": "haskell",
   "name": "haskell"
  },
  "language_info": {
   "codemirror_mode": "ihaskell",
   "file_extension": ".hs",
   "name": "haskell",
   "version": "8.0.2"
  }
 },
 "nbformat": 4,
 "nbformat_minor": 2
}
