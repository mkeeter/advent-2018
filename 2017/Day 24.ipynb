{
 "cells": [
  {
   "cell_type": "code",
   "execution_count": 1,
   "metadata": {},
   "outputs": [],
   "source": [
    "data = []\n",
    "with open('input24.txt', 'r') as f:\n",
    "    for line in f.readlines():\n",
    "        a, b = line.split('/')\n",
    "        data.append((int(a), int(b)))"
   ]
  },
  {
   "cell_type": "code",
   "execution_count": 7,
   "metadata": {},
   "outputs": [],
   "source": [
    "bridge = ([], 0)\n",
    "\n",
    "def run(b, d):\n",
    "    available = [a for a in d if b[1] in a]\n",
    "    if len(available) == 0:\n",
    "        yield b\n",
    "    else:\n",
    "        for a in available:\n",
    "            d_ = d.copy()\n",
    "            d_.remove(a)\n",
    "            yield from run((b[0] + [a], a[0] if b[1] == a[1] else a[1]), d_)"
   ]
  },
  {
   "cell_type": "code",
   "execution_count": 8,
   "metadata": {},
   "outputs": [
    {
     "data": {
      "text/plain": [
       "1940"
      ]
     },
     "execution_count": 8,
     "metadata": {},
     "output_type": "execute_result"
    }
   ],
   "source": [
    "max(map(lambda bridge: sum([a + b for a, b in bridge[0]]), run(bridge, data))) "
   ]
  },
  {
   "cell_type": "code",
   "execution_count": 9,
   "metadata": {},
   "outputs": [
    {
     "data": {
      "text/plain": [
       "1928"
      ]
     },
     "execution_count": 9,
     "metadata": {},
     "output_type": "execute_result"
    }
   ],
   "source": [
    "max_len = max(map(lambda bridge: len(bridge[0]), run(bridge, data)))\n",
    "long = filter(lambda bridge: len(bridge[0]) == max_len, run(bridge, data))\n",
    "max(map(lambda bridge: sum([a + b for a, b in bridge[0]]), long)) "
   ]
  },
  {
   "cell_type": "code",
   "execution_count": null,
   "metadata": {},
   "outputs": [],
   "source": []
  }
 ],
 "metadata": {
  "kernelspec": {
   "display_name": "Python 3",
   "language": "python",
   "name": "python3"
  },
  "language_info": {
   "codemirror_mode": {
    "name": "ipython",
    "version": 3
   },
   "file_extension": ".py",
   "mimetype": "text/x-python",
   "name": "python",
   "nbconvert_exporter": "python",
   "pygments_lexer": "ipython3",
   "version": "3.6.3"
  }
 },
 "nbformat": 4,
 "nbformat_minor": 2
}
