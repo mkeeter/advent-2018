{
 "cells": [
  {
   "cell_type": "code",
   "execution_count": 62,
   "metadata": {},
   "outputs": [],
   "source": [
    "import Data.Bits\n",
    "import Data.Char\n",
    "import Numeric"
   ]
  },
  {
   "cell_type": "code",
   "execution_count": 36,
   "metadata": {},
   "outputs": [],
   "source": [
    "twist :: Int -> Int -> [Int] -> [Int]\n",
    "twist i len ks =\n",
    "  let (before, after) = splitAt i ks\n",
    "      unwrapped = after ++ before\n",
    "      (a, b) = splitAt len unwrapped\n",
    "      a' = reverse a\n",
    "      unwrapped' = a' ++ b\n",
    "  in uncurry (flip (++)) $ splitAt (length after) unwrapped'      "
   ]
  },
  {
   "cell_type": "code",
   "execution_count": 37,
   "metadata": {},
   "outputs": [
    {
     "data": {
      "text/plain": [
       "[4,3,0,1,2]"
      ]
     },
     "metadata": {},
     "output_type": "display_data"
    }
   ],
   "source": [
    "twist 3 4 [2,1,0,3,4]"
   ]
  },
  {
   "cell_type": "code",
   "execution_count": 39,
   "metadata": {},
   "outputs": [],
   "source": [
    "run :: [Int] -> [Int] -> [Int]\n",
    "run ks lens = run' ks lens 0 0\n",
    "  where run' ks [] pos skip = ks\n",
    "        run' ks (len:lens) pos skip =\n",
    "          run' (twist pos len ks) lens (mod (pos + skip + len) (length ks)) (skip + 1)"
   ]
  },
  {
   "cell_type": "code",
   "execution_count": 46,
   "metadata": {},
   "outputs": [
    {
     "data": {
      "text/plain": [
       "[65,246,247,248,249,250,251,205,206,207,208,209,210,211,212,213,214,183,0,1,2,3,4,5,6,7,8,9,10,11,12,13,14,15,16,17,18,19,20,21,22,23,24,25,26,27,28,29,30,31,32,33,34,35,36,37,38,39,40,74,73,75,217,60,59,58,57,56,55,54,197,195,196,194,193,192,191,190,189,188,239,238,237,236,149,150,151,152,153,154,155,156,157,158,159,160,161,162,163,164,165,166,167,168,169,170,171,172,173,174,175,176,177,178,179,180,181,182,255,254,253,252,204,203,202,201,200,199,198,53,52,51,50,49,48,47,46,45,44,43,42,41,72,71,70,69,68,67,66,245,244,243,62,61,218,219,220,221,222,223,224,225,226,227,228,229,230,231,232,233,234,235,148,147,146,145,144,143,142,141,140,139,138,137,136,135,134,133,132,131,130,129,128,127,126,125,124,123,122,121,120,119,118,117,116,115,114,113,112,111,110,109,108,107,106,105,104,103,102,101,100,99,98,97,96,95,94,93,92,91,90,89,88,87,86,85,84,83,82,81,80,79,78,77,76,216,215,184,185,186,187,240,241,242,63,64]"
      ]
     },
     "metadata": {},
     "output_type": "display_data"
    }
   ],
   "source": [
    "input = \"183,0,31,146,254,240,223,150,2,206,161,1,255,232,199,88\"\n",
    "run [0..255] $ read $ \"[\" ++ input ++ \"]\""
   ]
  },
  {
   "cell_type": "code",
   "execution_count": 43,
   "metadata": {},
   "outputs": [
    {
     "data": {
      "text/plain": [
       "15990"
      ]
     },
     "metadata": {},
     "output_type": "display_data"
    }
   ],
   "source": [
    "65 * 246"
   ]
  },
  {
   "cell_type": "code",
   "execution_count": 52,
   "metadata": {},
   "outputs": [],
   "source": [
    "input' = map ord input ++ [17, 31, 73, 47, 23]"
   ]
  },
  {
   "cell_type": "code",
   "execution_count": 54,
   "metadata": {},
   "outputs": [
    {
     "data": {
      "text/plain": [
       "[13,17,165,213,174,135,225,129,6,175,49,163,205,143,243,63,97,1,60,0,248,91,140,18,33,112,204,82,101,160,12,202,114,250,181,246,245,164,38,10,249,180,139,191,23,251,150,5,156,138,229,239,218,29,40,35,65,188,240,124,224,119,27,186,108,72,183,24,81,66,41,192,67,106,221,50,46,161,133,96,162,30,226,121,125,127,22,79,103,57,216,90,169,51,194,173,231,55,149,83,166,126,136,146,179,244,207,20,198,115,105,74,154,147,8,158,130,134,199,43,95,212,152,238,89,93,168,142,193,70,137,235,68,223,58,209,171,86,69,71,252,118,19,195,36,167,32,102,132,47,222,117,54,208,123,110,42,227,120,219,220,21,107,254,206,210,122,53,37,190,211,232,170,145,3,7,176,61,75,159,85,76,94,113,187,48,253,228,44,59,15,230,116,242,155,203,73,148,104,99,34,78,153,109,31,197,141,189,9,200,77,255,111,177,56,157,182,87,39,214,172,237,184,196,151,178,92,217,241,64,236,14,215,11,88,25,62,4,234,52,201,131,233,100,84,80,28,16,2,185,128,45,98,247,26,144]"
      ]
     },
     "metadata": {},
     "output_type": "display_data"
    }
   ],
   "source": [
    "run [0..255] $ concat $ replicate 64 input'"
   ]
  },
  {
   "cell_type": "code",
   "execution_count": 78,
   "metadata": {},
   "outputs": [],
   "source": [
    "hash :: String -> String\n",
    "hash s =\n",
    "  let lens = map ord s ++ [17, 31, 73, 47, 23]\n",
    "      sparse = run [0..255] $ concat $ replicate 64 lens\n",
    "      dense = getDense sparse\n",
    "      in concatMap toHex dense\n",
    "      \n",
    "  where getDense :: [Int] -> [Int]\n",
    "        getDense [] = []\n",
    "        getDense s = let (a,b) = splitAt 16 s in (foldl xor 0 a):(getDense b)\n",
    "        \n",
    "        toHex :: Int -> String\n",
    "        toHex i = let s = showHex i \"\"\n",
    "          in if (length s == 1) then '0':s else s"
   ]
  },
  {
   "cell_type": "code",
   "execution_count": 81,
   "metadata": {},
   "outputs": [
    {
     "data": {
      "text/plain": [
       "\"90adb097dd55dea8305c900372258ac6\""
      ]
     },
     "metadata": {},
     "output_type": "display_data"
    }
   ],
   "source": [
    "hash input"
   ]
  },
  {
   "cell_type": "code",
   "execution_count": null,
   "metadata": {},
   "outputs": [],
   "source": []
  }
 ],
 "metadata": {
  "kernelspec": {
   "display_name": "Haskell",
   "language": "haskell",
   "name": "haskell"
  },
  "language_info": {
   "codemirror_mode": "ihaskell",
   "file_extension": ".hs",
   "name": "haskell",
   "version": "8.0.2"
  }
 },
 "nbformat": 4,
 "nbformat_minor": 2
}
