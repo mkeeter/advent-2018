{
 "cells": [
  {
   "cell_type": "code",
   "execution_count": 11,
   "metadata": {},
   "outputs": [],
   "source": [
    "import Text.Read\n",
    "import Data.Maybe\n",
    "import Data.Char\n",
    "import Data.List.Split\n",
    "import qualified Data.Vector as V\n",
    "import qualified Data.Map as M"
   ]
  },
  {
   "cell_type": "code",
   "execution_count": 12,
   "metadata": {},
   "outputs": [],
   "source": [
    "type Reg = Char\n",
    "data Value = Value Int | Register Reg deriving Show\n",
    "data Instruction = Sound Value\n",
    "                 | Set Reg Value\n",
    "                 | Add Reg Value\n",
    "                 | Mul Reg Value\n",
    "                 | Mod Reg Value\n",
    "                 | Recover Value\n",
    "                 | Jump Value Value deriving Show"
   ]
  },
  {
   "cell_type": "code",
   "execution_count": 13,
   "metadata": {},
   "outputs": [],
   "source": [
    "readRegister = head . dropWhile isSpace\n",
    "readValue s =\n",
    "  let r = Register $ readRegister s\n",
    "      v = Value <$> readMaybe s\n",
    "    in fromMaybe r v"
   ]
  },
  {
   "cell_type": "code",
   "execution_count": 14,
   "metadata": {},
   "outputs": [],
   "source": [
    "readLine :: String -> Instruction\n",
    "readLine s = case i of\n",
    "  \"snd\" -> Sound (readValue $ args !! 0)\n",
    "  \"set\" -> Set (readRegister $ args !! 0)\n",
    "               (readValue $ args !! 1)\n",
    "  \"add\" -> Add (readRegister $ args !! 0)\n",
    "               (readValue $ args !! 1)\n",
    "  \"mul\" -> Mul (readRegister $ args !! 0)\n",
    "               (readValue $ args !! 1)\n",
    "  \"mod\" -> Mod (readRegister $ args !! 0)\n",
    "               (readValue $ args !! 1)\n",
    "  \"rcv\" -> Recover (readValue $ args !! 0)\n",
    "  \"jgz\" -> Jump (readValue $ args !! 0)\n",
    "                (readValue $ args !! 1)\n",
    "  where i = take 3 s\n",
    "        args = splitOn \" \" $ drop 4 s"
   ]
  },
  {
   "cell_type": "code",
   "execution_count": 15,
   "metadata": {},
   "outputs": [],
   "source": [
    "type Machine = M.Map Reg Int\n",
    "type Pc = Int\n",
    "type Instructions = V.Vector Instruction\n",
    "step :: (Machine, Pc, [Int]) -> Instructions\n",
    "                             -> (Machine, Pc, [Int])\n",
    "step (m, pc, rs) ins = case i of\n",
    "  Sound v -> (setValue ' ' v, pc + 1, rs)\n",
    "  Set a b -> (setValue a b, pc + 1, rs)\n",
    "  Add a b -> (setValue a $ Value\n",
    "                         $ (getValue b) +\n",
    "                           (getValue $ Register a),\n",
    "              pc + 1, rs)\n",
    "  Mul a b -> (setValue a $ Value\n",
    "                         $ (getValue b) *\n",
    "                           (getValue $ Register a),\n",
    "              pc + 1, rs)\n",
    "  Mod a b -> (setValue a $ Value\n",
    "                         $ (getValue $ Register a) `mod`\n",
    "                           (getValue b),\n",
    "              pc + 1, rs)\n",
    "  Recover v -> if (getValue v /= 0) then (m, pc + 1, (getValue $ Register ' '):rs)\n",
    "                                    else (m, pc + 1, rs)\n",
    "  Jump a b -> if (getValue a > 0) then (m, pc + getValue b, rs)\n",
    "                                  else (m, pc + 1, rs)\n",
    "  where i = ins V.! pc\n",
    "        getValue (Value i) = i\n",
    "        getValue (Register r) = fromMaybe 0 $ M.lookup r m\n",
    "        setValue r v = M.insert r (getValue v) m"
   ]
  },
  {
   "cell_type": "code",
   "execution_count": 16,
   "metadata": {},
   "outputs": [],
   "source": [
    "run :: Instructions -> [(Machine, Pc, [Int])]\n",
    "run ins = run' (M.empty, 0, [])\n",
    "  where run' mpc@(_, pc, _) = if (pc < 0 || pc >= V.length ins)\n",
    "                              then [mpc]\n",
    "                              else mpc:(run' (step mpc ins))"
   ]
  },
  {
   "cell_type": "code",
   "execution_count": 17,
   "metadata": {},
   "outputs": [
    {
     "data": {
      "text/plain": [
       "(fromList [(' ',9423),('a',2147483647),('b',9423),('f',0),('i',126),('p',1928979423)],26,[9423])"
      ]
     },
     "metadata": {},
     "output_type": "display_data"
    }
   ],
   "source": [
    "head . filter (\\(a,b,c) -> not $ null c) . run . fmap readLine . V.fromList . lines <$> readFile \"input18.txt\""
   ]
  },
  {
   "cell_type": "code",
   "execution_count": null,
   "metadata": {},
   "outputs": [],
   "source": []
  }
 ],
 "metadata": {
  "kernelspec": {
   "display_name": "Haskell",
   "language": "haskell",
   "name": "haskell"
  },
  "language_info": {
   "codemirror_mode": "ihaskell",
   "file_extension": ".hs",
   "name": "haskell",
   "version": "8.0.2"
  }
 },
 "nbformat": 4,
 "nbformat_minor": 2
}
