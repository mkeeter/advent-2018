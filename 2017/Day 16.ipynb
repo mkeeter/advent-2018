{
 "cells": [
  {
   "cell_type": "code",
   "execution_count": 3,
   "metadata": {},
   "outputs": [],
   "source": [
    "import Data.List.Split\n",
    "import Data.Tuple\n",
    "import qualified Data.Vector as V\n",
    "import Data.Maybe"
   ]
  },
  {
   "cell_type": "code",
   "execution_count": 4,
   "metadata": {},
   "outputs": [],
   "source": [
    "data Move = Spin Int | Exchange Int Int | Partner Char Char deriving Show\n",
    "\n",
    "readMove :: String -> Move\n",
    "readMove ('s':i) = Spin $ read i\n",
    "readMove ('x':s) = let (a:b:[]) = read <$> splitOn \"/\" s in Exchange a b\n",
    "readMove ('p':s) = let (a:b:[]) = head <$> splitOn \"/\" s in Partner a b"
   ]
  },
  {
   "cell_type": "code",
   "execution_count": 5,
   "metadata": {},
   "outputs": [],
   "source": [
    "applyMove :: V.Vector Char -> Move -> V.Vector Char\n",
    "applyMove ps (Spin i) = uncurry (V.++) $ swap $ V.splitAt (length ps - i) ps\n",
    "applyMove ps (Exchange i j) = ps V.// [(i, ps V.! j), (j, ps V.! i)]\n",
    "applyMove ps (Partner i j) =\n",
    "  let i' = fromJust $ V.elemIndex i ps\n",
    "      j' = fromJust $ V.elemIndex j ps\n",
    "  in ps V.// [(i', ps V.! j'), (j', ps V.! i')]"
   ]
  },
  {
   "cell_type": "code",
   "execution_count": 6,
   "metadata": {},
   "outputs": [
    {
     "data": {
      "text/plain": [
       "\"namdgkbhifpceloj\""
      ]
     },
     "metadata": {},
     "output_type": "display_data",
     "source": "haskell"
    }
   ],
   "source": [
    "foldl applyMove (V.fromList ['a'..'p']) . V.fromList . fmap readMove . splitOn \",\" <$> readFile \"input16.txt\""
   ]
  },
  {
   "cell_type": "code",
   "execution_count": null,
   "metadata": {},
   "outputs": [],
   "source": []
  }
 ],
 "metadata": {
  "kernelspec": {
   "display_name": "Haskell",
   "language": "haskell",
   "name": "haskell"
  },
  "language_info": {
   "codemirror_mode": "ihaskell",
   "file_extension": ".hs",
   "name": "haskell",
   "version": "8.0.2"
  }
 },
 "nbformat": 4,
 "nbformat_minor": 2
}
