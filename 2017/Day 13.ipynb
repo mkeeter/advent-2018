{
 "cells": [
  {
   "cell_type": "code",
   "execution_count": 17,
   "metadata": {},
   "outputs": [],
   "source": [
    "import Data.List.Split"
   ]
  },
  {
   "cell_type": "code",
   "execution_count": 23,
   "metadata": {},
   "outputs": [],
   "source": [
    "caught :: (Int, Int) -> Bool\n",
    "caught (depth, range) = (depth == 0) || mod depth (2 * range - 2) == 0\n",
    "\n",
    "severity :: (Int, Int) -> Int\n",
    "severity i@(depth, range) = if caught i then depth * range else 0"
   ]
  },
  {
   "cell_type": "code",
   "execution_count": 19,
   "metadata": {},
   "outputs": [],
   "source": [
    "parseLine :: String -> (Int, Int)\n",
    "parseLine s = let (depth:range:[]) = read <$> splitOn \":\" s\n",
    "               in (depth, range)"
   ]
  },
  {
   "cell_type": "code",
   "execution_count": 27,
   "metadata": {},
   "outputs": [
    {
     "data": {
      "text/plain": [
       "1316"
      ]
     },
     "metadata": {},
     "output_type": "display_data"
    }
   ],
   "source": [
    "sum . fmap (severity . parseLine) . lines <$> readFile \"input13.txt\""
   ]
  },
  {
   "cell_type": "code",
   "execution_count": 30,
   "metadata": {},
   "outputs": [],
   "source": [
    "minDelay :: [(Int, Int)] -> Int\n",
    "minDelay ts =\n",
    "  head $ dropWhile anyCaught [0..]\n",
    "  where anyCaught t = any (\\(d,r) -> caught (d + t, r)) ts"
   ]
  },
  {
   "cell_type": "code",
   "execution_count": 32,
   "metadata": {},
   "outputs": [
    {
     "data": {
      "text/plain": [
       "3840052"
      ]
     },
     "metadata": {},
     "output_type": "display_data"
    }
   ],
   "source": [
    "minDelay . fmap parseLine . lines <$> readFile \"input13.txt\""
   ]
  },
  {
   "cell_type": "code",
   "execution_count": null,
   "metadata": {},
   "outputs": [],
   "source": []
  }
 ],
 "metadata": {
  "kernelspec": {
   "display_name": "Haskell",
   "language": "haskell",
   "name": "haskell"
  },
  "language_info": {
   "codemirror_mode": "ihaskell",
   "file_extension": ".hs",
   "name": "haskell",
   "version": "8.0.2"
  }
 },
 "nbformat": 4,
 "nbformat_minor": 2
}
