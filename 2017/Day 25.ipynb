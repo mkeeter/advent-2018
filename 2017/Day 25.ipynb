{
 "cells": [
  {
   "cell_type": "code",
   "execution_count": 3,
   "metadata": {},
   "outputs": [],
   "source": [
    "step_count = 12459852\n",
    "states = {}\n",
    "states['A'] = {0: (1,'R','B'),\n",
    "               1: (1, 'L', 'E')}\n",
    "states['B'] = {0: (1,'R','C'),\n",
    "               1: (1, 'R','F')}\n",
    "states['C'] = {0: (1,'L','D'),\n",
    "               1: (0, 'R', 'B')}\n",
    "states['D'] = {0: (1,'R','E'),\n",
    "               1: (0, 'L', 'C')}\n",
    "states['E'] = {0: (1,'L','A'),\n",
    "               1: (0, 'R', 'D')}\n",
    "states['F'] = {0: (1,'R','A'),\n",
    "               1: (1, 'R', 'C')}"
   ]
  },
  {
   "cell_type": "code",
   "execution_count": 8,
   "metadata": {},
   "outputs": [],
   "source": [
    "state = 'A'\n",
    "from collections import defaultdict\n",
    "tape = defaultdict(lambda: 0)\n",
    "index = 0\n",
    "for s in range(step_count):\n",
    "    n = states[state][tape[index]]\n",
    "    tape[index] = n[0]\n",
    "    if n[1] == 'R':\n",
    "        index += 1\n",
    "    else:\n",
    "        index -= 1\n",
    "    state = n[2]"
   ]
  },
  {
   "cell_type": "code",
   "execution_count": 12,
   "metadata": {},
   "outputs": [
    {
     "data": {
      "text/plain": [
       "4217"
      ]
     },
     "execution_count": 12,
     "metadata": {},
     "output_type": "execute_result"
    }
   ],
   "source": [
    "sum(tape.values())"
   ]
  },
  {
   "cell_type": "code",
   "execution_count": null,
   "metadata": {},
   "outputs": [],
   "source": []
  }
 ],
 "metadata": {
  "kernelspec": {
   "display_name": "Python 3",
   "language": "python",
   "name": "python3"
  },
  "language_info": {
   "codemirror_mode": {
    "name": "ipython",
    "version": 3
   },
   "file_extension": ".py",
   "mimetype": "text/x-python",
   "name": "python",
   "nbconvert_exporter": "python",
   "pygments_lexer": "ipython3",
   "version": "3.6.3"
  }
 },
 "nbformat": 4,
 "nbformat_minor": 2
}
