{
 "cells": [
  {
   "cell_type": "code",
   "execution_count": 13,
   "metadata": {},
   "outputs": [],
   "source": [
    "import qualified Data.Vector as V\n",
    "import Data.Maybe\n",
    "import Data.Char"
   ]
  },
  {
   "cell_type": "code",
   "execution_count": 2,
   "metadata": {},
   "outputs": [],
   "source": [
    "type Grid = V.Vector (V.Vector Char)\n",
    "at :: Grid -> (Int, Int) -> Char\n",
    "at g (row, col) =\n",
    "  if (row < 0) || (col < 0) || (row >= (V.length g)) || (col >= (V.length $ (V.!) g row))\n",
    "  then ' '\n",
    "  else (V.!) ((V.!) g row) col"
   ]
  },
  {
   "cell_type": "code",
   "execution_count": 3,
   "metadata": {},
   "outputs": [],
   "source": [
    "findStart :: Grid -> (Int, Int)\n",
    "findStart g = (0, fromJust $ V.findIndex ('|' ==) $ (V.!) g 0)"
   ]
  },
  {
   "cell_type": "code",
   "execution_count": 5,
   "metadata": {},
   "outputs": [],
   "source": [
    "next :: Grid -> ((Int, Int), (Int, Int)) -> (Int, Int)\n",
    "next g ((x,y), dir) = head [d | d@(dx,dy) <- [(0,1),(1,0),(-1,0),(0,-1)],\n",
    "                                (-dx, -dy) /= dir,\n",
    "                                at g (x + dx, y + dy) /= ' ']"
   ]
  },
  {
   "cell_type": "code",
   "execution_count": 6,
   "metadata": {},
   "outputs": [],
   "source": [
    "step ::  ((Int, Int), (Int, Int)) -> Grid -> Maybe ((Int, Int), (Int, Int))\n",
    "step pos@(pt@(x, y), dir@(dx, dy)) g = case at g pt of\n",
    "  ' ' -> Nothing\n",
    "  '+' -> let dir'@(dx', dy') = next g pos in\n",
    "         Just ((x + dx', y + dy'), dir')\n",
    "  otherwise -> Just ((x + dx, y + dy), (dx, dy))"
   ]
  },
  {
   "cell_type": "code",
   "execution_count": 10,
   "metadata": {},
   "outputs": [],
   "source": [
    "run :: Grid -> [(Int, Int)]\n",
    "run g = run' (findStart g, (1,0))\n",
    "  where run' pos@(pt,_) = pt:(maybe [] run' (step pos g))"
   ]
  },
  {
   "cell_type": "code",
   "execution_count": 19,
   "metadata": {},
   "outputs": [
    {
     "data": {
      "text/plain": [
       "16329"
      ]
     },
     "metadata": {},
     "output_type": "display_data"
    }
   ],
   "source": [
    "do\n",
    "  g <- readFile \"input19.txt\"\n",
    "  let grid = V.fromList . fmap V.fromList . lines $ g\n",
    "  let trace = run grid\n",
    "  return $ length $ fmap (at grid) trace"
   ]
  },
  {
   "cell_type": "code",
   "execution_count": null,
   "metadata": {},
   "outputs": [],
   "source": []
  }
 ],
 "metadata": {
  "kernelspec": {
   "display_name": "Haskell",
   "language": "haskell",
   "name": "haskell"
  },
  "language_info": {
   "codemirror_mode": "ihaskell",
   "file_extension": ".hs",
   "name": "haskell",
   "version": "8.0.2"
  }
 },
 "nbformat": 4,
 "nbformat_minor": 2
}
