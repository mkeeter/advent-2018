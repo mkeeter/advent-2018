{
 "cells": [
  {
   "cell_type": "code",
   "execution_count": 6,
   "metadata": {},
   "outputs": [],
   "source": [
    "import numpy as np"
   ]
  },
  {
   "cell_type": "code",
   "execution_count": 29,
   "metadata": {},
   "outputs": [],
   "source": [
    "[3135, 10795, [], ['fire'], 'bludgeoning', 19]\n",
    "2318, 5166, [], [], 'fire', 21\n",
    "lines = open('input').readlines()\n",
    "data = []\n",
    "for line in lines:\n",
    "    line = line.replace('units each with', ' ')\n",
    "    line = line.replace('hit points', ' ')\n",
    "    line = line.replace('(', ' ')\n",
    "    line = line.replace(')', ' ')\n",
    "    line = line.replace(';', ' ')\n",
    "    line = line.replace('weak to ', 'w:')\n",
    "    line = line.replace(\"immune to \", 'i:')\n",
    "    line = line.replace(\", \", ',')\n",
    "    line = line.replace('with an attack that does','')\n",
    "    line = line.replace('damage at initiative', '')\n",
    "    nums = []\n",
    "    for word in line.split(' '):\n",
    "        try:\n",
    "            nums.append(int(word))\n",
    "            continue\n",
    "        except:\n",
    "            pass\n",
    "        if word[:2] == 'i:':\n",
    "            immune = word[2:].split(',')\n",
    "        elif word[:2] == 'w:':\n",
    "            weak = word[2:].split(',')\n",
    "        elif len(word):\n",
    "            damage = word\n",
    "    if len(nums) == 0:\n",
    "        continue\n",
    "    data.append(nums + [weak] + [immune] + [damage])\n",
    "\n",
    "immune = data[:10]\n",
    "infection = data[10:]\n",
    "\n",
    "immune.sort(key=lambda d: (d[0] * d[2], d[3]))\n",
    "immune = immune[::-1]\n",
    "\n",
    "immune_targets = []\n",
    "for i in immune:\n",
    "    best_damage = 0\n",
    "    best_target = None\n",
    "    for j, t in infection.enumerate():\n",
    "        damage = i[0] * i[2]\n",
    "        if i[-1] in j[5]:\n",
    "            damage = 0\n",
    "        elif i[-1] in j[4]:\n",
    "            damage = effective_power * 2\n",
    "        if damage > best_damage:\n",
    "            best_damage = damage\n",
    "            best_target = j\n",
    "    targets.append(best_target)\n",
    "\n",
    "infection.sort(key=lambda d: (d[0] * d[2], d[3]))\n",
    "infection = infection[::-1]\n"
   ]
  },
  {
   "cell_type": "code",
   "execution_count": null,
   "metadata": {},
   "outputs": [],
   "source": []
  }
 ],
 "metadata": {
  "kernelspec": {
   "display_name": "Python 3",
   "language": "python",
   "name": "python3"
  },
  "language_info": {
   "codemirror_mode": {
    "name": "ipython",
    "version": 3
   },
   "file_extension": ".py",
   "mimetype": "text/x-python",
   "name": "python",
   "nbconvert_exporter": "python",
   "pygments_lexer": "ipython3",
   "version": "3.7.1"
  }
 },
 "nbformat": 4,
 "nbformat_minor": 2
}
